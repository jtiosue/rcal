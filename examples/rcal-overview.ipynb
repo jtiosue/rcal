{
 "cells": [
  {
   "cell_type": "markdown",
   "id": "c52bc9bd",
   "metadata": {},
   "source": [
    "# `rcal` overview"
   ]
  },
  {
   "cell_type": "code",
   "execution_count": 1,
   "id": "b1bf9699",
   "metadata": {},
   "outputs": [],
   "source": [
    "import rcal\n",
    "from pprint import pprint"
   ]
  },
  {
   "cell_type": "markdown",
   "id": "12d1b736",
   "metadata": {},
   "source": [
    "Here we show a very simple example of using `rcal`. Suppose for example that we have the following ratings."
   ]
  },
  {
   "cell_type": "code",
   "execution_count": 2,
   "id": "b0589127",
   "metadata": {},
   "outputs": [],
   "source": [
    "data = {\n",
    "    ('r1', 'p0', 0): 1,  # reviewer 1 gives person 0 a 1 star rating on day 0\n",
    "    ('r1', 'p1', 1): 3,  # reviewer 1 gives person 1 a 3 star rating on day 1\n",
    "    ('r1', 'p2', 2): 3,  # reviewer 1 gives person 2 a 3 star rating on day 2\n",
    "\n",
    "    ('r2', 'p2', 0): 3,  # reviewer 2 gives person 2 a 3 star rating on day 0\n",
    "    ('r2', 'p0', 1): 3,  # reviewer 2 gives person 0 a 3 star rating on day 1\n",
    "    ('r2', 'p1', 2): 4,  # reviewer 2 gives person 1 a 4 star rating on day 2\n",
    "\n",
    "    ('r3', 'p1', 0): 2,  # reviewer 3 gives person 1 a 2 star rating on day 0\n",
    "    ('r3', 'p2', 1): 2,  # reviewer 3 gives person 2 a 2 star rating on day 1\n",
    "    ('r3', 'p0', 2): 3,  # reviewer 3 gives person 0 a 3 star rating on day 2\n",
    "\n",
    "    ('r1', 'p3', 0): 1,  # reviewer 1 gives person 3 a 1 star rating on day 0\n",
    "    ('r2', 'p3', 1): 1,  # reviewer 2 gives person 3 a 1 star rating on day 1\n",
    "    ('r3', 'p3', 2): 1,  # reviewer 3 gives person 3 a 1 star rating on day 2\n",
    "\n",
    "    ('r1', 'p4', 0): 5   # reviewer 1 gives person 4 a 5 star rating on day 0\n",
    "}"
   ]
  },
  {
   "cell_type": "markdown",
   "id": "da81c2d3",
   "metadata": {},
   "source": [
    "## Calibrating the parameters"
   ]
  },
  {
   "cell_type": "markdown",
   "id": "760f3879",
   "metadata": {},
   "source": [
    "We now calibrate. Calibrating returns a `rcal.CalibrationParameters` object that encodes the information about the calibration."
   ]
  },
  {
   "cell_type": "code",
   "execution_count": 3,
   "id": "3d5ee628",
   "metadata": {},
   "outputs": [],
   "source": [
    "cp = rcal.calibrate_parameters(data)"
   ]
  },
  {
   "cell_type": "markdown",
   "id": "94fc1c21",
   "metadata": {},
   "source": [
    "We now want to rescale the parameters such that the resulting calibrated data lies between 1 and 5 stars. (Note that `rescale_parameters` updates the object `cp` in place, but also returns `self` which is why you see a returned object after this cell)"
   ]
  },
  {
   "cell_type": "code",
   "execution_count": 4,
   "id": "30a0e3aa",
   "metadata": {},
   "outputs": [
    {
     "data": {
      "text/plain": [
       "<rcal._calibrate.CalibrationParameters at 0x10a865300>"
      ]
     },
     "execution_count": 4,
     "metadata": {},
     "output_type": "execute_result"
    }
   ],
   "source": [
    "cp.rescale_parameters(data, bounds=(1, 5))"
   ]
  },
  {
   "cell_type": "markdown",
   "id": "94eca09d",
   "metadata": {},
   "source": [
    "With the `rcal.CalibrationParameters` object, we can use the parameters that were learned from the calibration procedure to calibrate the data."
   ]
  },
  {
   "cell_type": "code",
   "execution_count": 5,
   "id": "135f96a9",
   "metadata": {},
   "outputs": [
    {
     "name": "stdout",
     "output_type": "stream",
     "text": [
      "{('r1', 'p0', 0): 1.0,\n",
      " ('r1', 'p1', 1): 3.0,\n",
      " ('r1', 'p2', 2): 3.0,\n",
      " ('r1', 'p3', 0): 1.0,\n",
      " ('r1', 'p4', 0): 5.0,\n",
      " ('r2', 'p0', 1): 2.553005163595431,\n",
      " ('r2', 'p1', 2): 3.214889845336864,\n",
      " ('r2', 'p2', 0): 2.553005163595431,\n",
      " ('r2', 'p3', 1): 1.2292358001125652,\n",
      " ('r3', 'p0', 2): 4.079287803147121,\n",
      " ('r3', 'p1', 0): 2.7793717727528553,\n",
      " ('r3', 'p2', 1): 2.7793717727528553,\n",
      " ('r3', 'p3', 2): 1.479455742358589}\n"
     ]
    }
   ],
   "source": [
    "pprint(cp.calibrate_data(data))"
   ]
  },
  {
   "cell_type": "markdown",
   "id": "cb2aafec",
   "metadata": {},
   "source": [
    "## Improvement rates"
   ]
  },
  {
   "cell_type": "markdown",
   "id": "7109fd9f",
   "metadata": {},
   "source": [
    "The improvement rates of each person are:"
   ]
  },
  {
   "cell_type": "code",
   "execution_count": 6,
   "id": "6660f470",
   "metadata": {},
   "outputs": [
    {
     "name": "stdout",
     "output_type": "stream",
     "text": [
      "{'p0': 1.5396439015735608,\n",
      " 'p1': 0.2177590362920042,\n",
      " 'p2': 0.22349741820228447,\n",
      " 'p3': 0.23972787117929453,\n",
      " 'p4': 0.0}\n"
     ]
    }
   ],
   "source": [
    "pprint(cp.improvement_rates())"
   ]
  },
  {
   "cell_type": "markdown",
   "id": "51d6216d",
   "metadata": {},
   "source": [
    "These rates denote how many stars on the calibrated scale that the person improves per day. Since `p4` has only one review, they have no improvement rate. Meanwhile, the other people have positive improvement rates since each day their ratings increase. If we take improvement into account, we see that the reviews of each person are approximately equal across days (this means that the calibration is working!):"
   ]
  },
  {
   "cell_type": "code",
   "execution_count": 7,
   "id": "33fe17c7",
   "metadata": {},
   "outputs": [
    {
     "name": "stdout",
     "output_type": "stream",
     "text": [
      "{('r1', 'p0', 0): 1.0104646221768379,\n",
      " ('r1', 'p1', 1): 2.7880429663065116,\n",
      " ('r1', 'p2', 2): 2.559406882703343,\n",
      " ('r1', 'p3', 0): 1.0104646221768379,\n",
      " ('r1', 'p4', 0): 4.999999999999999,\n",
      " ('r2', 'p0', 1): 1.023790929058992,\n",
      " ('r2', 'p1', 2): 2.785181281601196,\n",
      " ('r2', 'p2', 0): 2.5594068827033425,\n",
      " ('r2', 'p3', 1): 0.9999999999999998,\n",
      " ('r3', 'p0', 2): 1.0104646221768379,\n",
      " ('r3', 'p1', 0): 2.7851812816011954,\n",
      " ('r3', 'p2', 1): 2.5622685674086574,\n",
      " ('r3', 'p3', 2): 1.0104646221768379}\n"
     ]
    }
   ],
   "source": [
    "cp.rescale_parameters(data, bounds=(1, 5), with_improvement=True)\n",
    "calibrated_data_improvement = cp.calibrate_data(data, with_improvement=True)\n",
    "pprint(calibrated_data_improvement)"
   ]
  },
  {
   "cell_type": "markdown",
   "id": "676ffe5c",
   "metadata": {},
   "source": [
    "`with_improvement=True` essentially takes a calibrated review on day `d` and projects it (via the improvement rate of the person being rated) to what that review would have been on the final day. Hence, if the calibration is perfomring well, we expect that e.g. a calibrated rating of `'p0'` from `'r1'` on day `0` -- after projecting to the final day -- should be the same as a calibrated rating of `'p0'` from `'r2'` on day `2`. Indeed we see that this is the case; looking at the calibrated data with improvement printed above, we see that each person has roughly the same rating regardless of the day. Let's print this in order of person to make it a bit more clear:"
   ]
  },
  {
   "cell_type": "code",
   "execution_count": 8,
   "id": "8091983e",
   "metadata": {},
   "outputs": [
    {
     "name": "stdout",
     "output_type": "stream",
     "text": [
      "{('r1', 'p0', 0): 1.0104646221768379,\n",
      " ('r2', 'p0', 1): 1.023790929058992,\n",
      " ('r3', 'p0', 2): 1.0104646221768379}\n",
      "\n",
      "{('r1', 'p1', 1): 2.7880429663065116,\n",
      " ('r2', 'p1', 2): 2.785181281601196,\n",
      " ('r3', 'p1', 0): 2.7851812816011954}\n",
      "\n",
      "{('r1', 'p2', 2): 2.559406882703343,\n",
      " ('r2', 'p2', 0): 2.5594068827033425,\n",
      " ('r3', 'p2', 1): 2.5622685674086574}\n",
      "\n",
      "{('r1', 'p3', 0): 1.0104646221768379,\n",
      " ('r2', 'p3', 1): 0.9999999999999998,\n",
      " ('r3', 'p3', 2): 1.0104646221768379}\n",
      "\n",
      "{('r1', 'p4', 0): 4.999999999999999}\n",
      "\n"
     ]
    }
   ],
   "source": [
    "for p in ('p0', 'p1', 'p2', 'p3', 'p4'):\n",
    "    pprint({\n",
    "        t: y \n",
    "        for t, y in calibrated_data_improvement.items() \n",
    "        if t[1] == p\n",
    "    })\n",
    "    print()"
   ]
  },
  {
   "cell_type": "markdown",
   "id": "19d2e444",
   "metadata": {},
   "source": [
    "## Using calibrated parameters to calibrate new ratings"
   ]
  },
  {
   "cell_type": "markdown",
   "id": "911d9d5d",
   "metadata": {},
   "source": [
    "Okay, let's go back to the calibration *without* improvement."
   ]
  },
  {
   "cell_type": "code",
   "execution_count": 9,
   "id": "41494874",
   "metadata": {},
   "outputs": [
    {
     "data": {
      "text/plain": [
       "<rcal._calibrate.CalibrationParameters at 0x10a865300>"
      ]
     },
     "execution_count": 9,
     "metadata": {},
     "output_type": "execute_result"
    }
   ],
   "source": [
    "cp.rescale_parameters(data, bounds=(1, 5))"
   ]
  },
  {
   "cell_type": "markdown",
   "id": "0adb11b5",
   "metadata": {},
   "source": [
    "We can calibrate a rating that we haven't seen before with the object `cp`. Indeed, suppose that `r2` reviewed a fifth person `p5` with a rating of `4.5` (notice that `'p5'` is not in the initial data dict, `data`). Then we can see what this review is on the calibrated scale."
   ]
  },
  {
   "cell_type": "code",
   "execution_count": 10,
   "id": "885544b7",
   "metadata": {},
   "outputs": [
    {
     "name": "stdout",
     "output_type": "stream",
     "text": [
      "3.545832186207581\n"
     ]
    }
   ],
   "source": [
    "print(cp.calibrate_rating('r2', 4.5))"
   ]
  },
  {
   "cell_type": "markdown",
   "id": "c8346c00",
   "metadata": {},
   "source": [
    "We can also calibrate a bunch of ratings that we haven't seen before as long as the ratings are from reviewers that we have seen before. So let's introduce a new person `p5` and some ratings for them."
   ]
  },
  {
   "cell_type": "code",
   "execution_count": 11,
   "id": "96b26792",
   "metadata": {},
   "outputs": [
    {
     "name": "stdout",
     "output_type": "stream",
     "text": [
      "{('r1', 'p5', 0): 2.0,\n",
      " ('r2', 'p5', 1): 2.2220628227247143,\n",
      " ('r3', 'p5', 2): 2.1294137575557226}\n"
     ]
    }
   ],
   "source": [
    "pprint(cp.calibrate_data({\n",
    "    ('r1', 'p5', 0): 2,\n",
    "    ('r2', 'p5', 1): 2.5,\n",
    "    ('r3', 'p5', 2): 1.5\n",
    "}))"
   ]
  },
  {
   "cell_type": "markdown",
   "id": "708115d1",
   "metadata": {},
   "source": [
    "## Visualizing reviewer's calibration parameters"
   ]
  },
  {
   "cell_type": "markdown",
   "id": "4d092221",
   "metadata": {},
   "source": [
    "Let's now visualize what different reviewers' ratings mean on the calibrated scale. Specifically, for each reviewer, we will plot raw ratings on the x-axis and the corresponding calibrated ratings on the y-axis."
   ]
  },
  {
   "cell_type": "code",
   "execution_count": 12,
   "id": "d92e34f9",
   "metadata": {},
   "outputs": [
    {
     "data": {
      "image/png": "[encoded data removed]",
      "text/plain": [
       "<Figure size 640x480 with 1 Axes>"
      ]
     },
     "metadata": {},
     "output_type": "display_data"
    }
   ],
   "source": [
    "import matplotlib.pyplot as plt\n",
    "\n",
    "plt.figure()\n",
    "plt.xlabel('raw rating')\n",
    "plt.ylabel('calibrated rating')\n",
    "xs = range(1, 6)\n",
    "for r in ('r1', 'r2', 'r3'):\n",
    "    plt.plot(xs, [cp.calibrate_rating(r, x) for x in xs], label=r)\n",
    "plt.legend()\n",
    "plt.show()"
   ]
  },
  {
   "cell_type": "markdown",
   "id": "9472ab4f",
   "metadata": {},
   "source": [
    "We see that when `r1` rates somebody e.g. 3 stars, it corresponds to 3 stars on the calibrated scale. Meanwhile, when `r2` rates somebody 3 stars, it corresponds to roughly 2.5 stars on the calibrated scale. Finally, when `r3` rates somebody 3 stars, it corresponds to roughly 4 stars on the calibrated scale. Let's analyze `r3`'s curve. The fact that `r3`'s curve is above the rest means that `r3` gives people lower raw ratings than `r1` and `r2` (indeed looking at the `data` dict, this is clear). Hence, when `r3` gives a raw rating, the calibration boosts it according to `r3`'s curve in the plot above."
   ]
  },
  {
   "cell_type": "markdown",
   "id": "1caf7a7c",
   "metadata": {},
   "source": [
    "The curves are given by the functions $y = a_r x + b_r$, where $y$ is the calibrated rating, $x$ is the raw rating, $a_r$ is the parameter given by `cp.reviewer_scale(r)`, and $b_r$ is the parameter given by `cp.reviewer_offset(r)`. Let's replot the above plot, but relabel the legend so we can see these parameters:"
   ]
  },
  {
   "cell_type": "code",
   "execution_count": 13,
   "id": "6e2b4a7e",
   "metadata": {},
   "outputs": [
    {
     "data": {
      "image/png": "[encoded data removed]",
      "text/plain": [
       "<Figure size 640x480 with 1 Axes>"
      ]
     },
     "metadata": {},
     "output_type": "display_data"
    }
   ],
   "source": [
    "plt.figure()\n",
    "plt.xlabel('raw rating (x)')\n",
    "plt.ylabel('calibrated rating (y)')\n",
    "xs = range(1, 6)\n",
    "for r in ('r1', 'r2', 'r3'):\n",
    "    ar = round(cp.reviewer_scale(r), 3)\n",
    "    br = round(cp.reviewer_offset(r), 3)\n",
    "    plt.plot(\n",
    "        xs, [cp.calibrate_rating(r, x) for x in xs], \n",
    "        label=f\"{r}: y = {ar} x + {br}\"\n",
    "    )\n",
    "plt.legend()\n",
    "plt.show()"
   ]
  },
  {
   "cell_type": "markdown",
   "id": "6db4278a",
   "metadata": {},
   "source": [
    "## Fast calibration"
   ]
  },
  {
   "cell_type": "markdown",
   "id": "214321d2",
   "metadata": {},
   "source": [
    "`rcal` is written in Python. However, it is written with a C extension so that the calibration is fast. Indeed, consider the following random example with 30,000 reviews."
   ]
  },
  {
   "cell_type": "code",
   "execution_count": 14,
   "id": "651b05ac",
   "metadata": {},
   "outputs": [
    {
     "name": "stdout",
     "output_type": "stream",
     "text": [
      "Number of reviews: 30000\n"
     ]
    }
   ],
   "source": [
    "import random, time\n",
    "\n",
    "big_data = {}\n",
    "for r in range(15):\n",
    "    for p in range(200):\n",
    "        for d in range(10):\n",
    "            big_data[(r, p, d)] = random.random()\n",
    "print(\"Number of reviews:\", len(big_data))"
   ]
  },
  {
   "cell_type": "markdown",
   "id": "8405d5b1",
   "metadata": {},
   "source": [
    "The calibration typically takes less than 2 seconds."
   ]
  },
  {
   "cell_type": "code",
   "execution_count": 15,
   "id": "c98a6f26",
   "metadata": {},
   "outputs": [
    {
     "name": "stdout",
     "output_type": "stream",
     "text": [
      "1.59 s ± 14 ms per loop (mean ± std. dev. of 7 runs, 1 loop each)\n"
     ]
    }
   ],
   "source": [
    "%timeit rcal.calibrate_parameters(big_data)"
   ]
  }
 ],
 "metadata": {
  "kernelspec": {
   "display_name": "Python 3 (ipykernel)",
   "language": "python",
   "name": "python3"
  },
  "language_info": {
   "codemirror_mode": {
    "name": "ipython",
    "version": 3
   },
   "file_extension": ".py",
   "mimetype": "text/x-python",
   "name": "python",
   "nbconvert_exporter": "python",
   "pygments_lexer": "ipython3",
   "version": "3.10.4"
  }
 },
 "nbformat": 4,
 "nbformat_minor": 5
}
